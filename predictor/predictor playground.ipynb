{
 "cells": [
  {
   "cell_type": "code",
   "execution_count": 4,
   "id": "0343ddc2",
   "metadata": {},
   "outputs": [],
   "source": [
    "import pandas as pd\n",
    "import numpy as np\n",
    "import scipy as sp\n",
    "import matplotlib.pyplot as plt"
   ]
  },
  {
   "cell_type": "code",
   "execution_count": null,
   "id": "5374ad9b",
   "metadata": {},
   "outputs": [],
   "source": [
    "from filterpy.discrete_bayes import update\n",
    "from filterpy.discrete_bayes import predict\n",
    "\n",
    "\n",
    "hallway = np.array([1, 1, 0, 0, 0, 0, 0, 0, 1, 0])\n",
    "kernel = (.1, .8, .1)\n",
    "\n",
    "prior = np.array([.1] * 10)                         # take an initial radar measurement and define a wide prior around it to be the starting satellite position.    \n",
    "likelihood = lh_hallway(hallway, z=1, z_prob=.75)   # get radar measurement. Define & obtain likelihood of getting this radar measurement given satellite position.\n",
    "posterior = update(likelihood, prior)               # update prior belief with radar measurement\n",
    "\n",
    "prior = predict(posterior, offset=1, kernel=kernel) # incorporate motion & laws to get prior belief on satellite position\n",
    "likelihood = lh_hallway(hallway, z=1, z_prob=.75)   # get radar measurement. Define likelihood of getting this radar measurement given satellite position.\n",
    "posterior = update(likelihood, prior)               # update belief with radar measurement\n",
    "\n",
    "prior = predict(posterior, 1, kernel)               # incorporate motion & laws to get prior belief on satellite position\n",
    "likelihood = lh_hallway(hallway, z=0, z_prob=.75)   # get radar measurement\n",
    "posterior = update(likelihood, prior)               # update belief with radar measurement \n",
    "\n",
    "# lh_hallway is a likelihood function that gives the likelihood of getting measurement z given each position in the hallway."
   ]
  },
  {
   "cell_type": "markdown",
   "id": "9bfe5ed1",
   "metadata": {},
   "source": [
    "# Test connection to C"
   ]
  },
  {
   "cell_type": "code",
   "execution_count": null,
   "id": "b3f3e501",
   "metadata": {},
   "outputs": [
    {
     "name": "stdout",
     "output_type": "stream",
     "text": [
      "c:\\Users\\biqin\\AppData\\Local\\Programs\\Python\\Python312\n"
     ]
    }
   ],
   "source": [
    "import sys\n",
    "print(sys.prefix)\n",
    "print(sys.path)"
   ]
  },
  {
   "cell_type": "code",
   "execution_count": 2,
   "id": "cdfddaff",
   "metadata": {},
   "outputs": [
    {
     "data": {
      "text/plain": [
       "([1.0, 0.0, 1.0], [10.0, 5.0, 2.0])"
      ]
     },
     "execution_count": 2,
     "metadata": {},
     "output_type": "execute_result"
    }
   ],
   "source": [
    "import testFuncs\n",
    "testFuncs.getSatParams()\n"
   ]
  },
  {
   "cell_type": "markdown",
   "id": "8d07be8a",
   "metadata": {},
   "source": [
    "# Kalman filter(1D)\n",
    "z = measurement\n",
    "\n",
    "P = prior variance after prediction (or posterior variance after update)\n",
    "\n",
    "Q = process noise \n",
    "\n",
    "R = measurement noise (or likelihood variance)\n"
   ]
  },
  {
   "cell_type": "code",
   "execution_count": null,
   "id": "7ee0fdf5",
   "metadata": {},
   "outputs": [],
   "source": [
    "def update(prior, measurement):\n",
    "    x, P = prior        # mean and variance of prior\n",
    "    z, R = measurement  # mean and variance of measurement\n",
    "    \n",
    "    y = z - x        # residual\n",
    "    K = P / (P + R)  # Kalman gain\n",
    "\n",
    "    x = x + K*y      # posterior\n",
    "    P = (1 - K) * P  # posterior variance\n",
    "    return gaussian(x, P)\n",
    "\n",
    "def predict(posterior, movement):\n",
    "    x, P = posterior # mean and variance of posterior\n",
    "    dx, Q = movement # mean and variance of movement\n",
    "    x = x + dx\n",
    "    P = P + Q\n",
    "    return gaussian(x, P)"
   ]
  },
  {
   "cell_type": "markdown",
   "id": "229c08c2",
   "metadata": {},
   "source": [
    "# Kalman filter for a tracking a dog"
   ]
  },
  {
   "cell_type": "code",
   "execution_count": null,
   "id": "59b8ca21",
   "metadata": {},
   "outputs": [],
   "source": [
    "import math\n",
    "import numpy as np\n",
    "from numpy.random import randn\n",
    "\n",
    "### generate true trajectory and measurements\n",
    "def compute_dog_data(z_var, process_var, count=1, dt=1.):\n",
    "    \"returns positions (xs) and measurements (zs)\"\n",
    "    x, vel = 0., 1.\n",
    "    z_std = math.sqrt(z_var) \n",
    "    p_std = math.sqrt(process_var)\n",
    "    xs, zs = [], []\n",
    "    for _ in range(count):\n",
    "        v = vel + (randn() * p_std)\n",
    "        x += v*dt        \n",
    "        xs.append(x)\n",
    "        zs.append(x + randn() * z_std)        \n",
    "    return np.array(xs), np.array(zs)"
   ]
  },
  {
   "cell_type": "code",
   "execution_count": null,
   "id": "9cafa06e",
   "metadata": {},
   "outputs": [
    {
     "data": {
      "text/plain": [
       "array([[1. , 0.1],\n",
       "       [0. , 1. ]])"
      ]
     },
     "execution_count": 6,
     "metadata": {},
     "output_type": "execute_result"
    }
   ],
   "source": [
    "### design state transition matrix F\n",
    "dt = 0.1\n",
    "F = np.array([[1, dt],\n",
    "              [0, 1]])\n",
    "F"
   ]
  },
  {
   "cell_type": "markdown",
   "id": "58287627",
   "metadata": {},
   "source": [
    "Using Saver class to save the state. Slows the process down but is neat."
   ]
  },
  {
   "cell_type": "code",
   "execution_count": null,
   "id": "abebc3e9",
   "metadata": {},
   "outputs": [],
   "source": [
    "from filterpy.common import Saver\n",
    "kf = pos_vel_filter([0, .1], R=R, P=P, Q=Q, dt=1.) \n",
    "s = Saver(kf)\n",
    "for i in range(1, 6):\n",
    "    kf.predict()\n",
    "    kf.update([i])\n",
    "    s.save()  # save the current state"
   ]
  },
  {
   "cell_type": "code",
   "execution_count": 2,
   "id": "c82f3226",
   "metadata": {},
   "outputs": [
    {
     "data": {
      "text/plain": [
       "array([[0.0004, 0.0008],\n",
       "       [0.0008, 0.0016]])"
      ]
     },
     "execution_count": 2,
     "metadata": {},
     "output_type": "execute_result"
    }
   ],
   "source": [
    "from filterpy.common import Q_discrete_white_noise\n",
    "Q_std = 0.04\n",
    "dt = 1.0 # time step\n",
    "Q_discrete_white_noise(dim=2, dt=dt, var=Q_std**2)"
   ]
  },
  {
   "cell_type": "code",
   "execution_count": 6,
   "id": "c0124634",
   "metadata": {},
   "outputs": [
    {
     "data": {
      "text/plain": [
       "KalmanFilter object\n",
       "dim_x = 9\n",
       "dim_z = 3\n",
       "dim_u = 0\n",
       "x = [[0. 0. 0. 0. 0. 0. 0. 0. 0.]].T\n",
       "P = [[1. 0. 0. 0. 0. 0. 0. 0. 0.]\n",
       "     [0. 1. 0. 0. 0. 0. 0. 0. 0.]\n",
       "     [0. 0. 1. 0. 0. 0. 0. 0. 0.]\n",
       "     [0. 0. 0. 1. 0. 0. 0. 0. 0.]\n",
       "     [0. 0. 0. 0. 1. 0. 0. 0. 0.]\n",
       "     [0. 0. 0. 0. 0. 1. 0. 0. 0.]\n",
       "     [0. 0. 0. 0. 0. 0. 1. 0. 0.]\n",
       "     [0. 0. 0. 0. 0. 0. 0. 1. 0.]\n",
       "     [0. 0. 0. 0. 0. 0. 0. 0. 1.]]\n",
       "x_prior = [[0. 0. 0. 0. 0. 0. 0. 0. 0.]].T\n",
       "P_prior = [[1. 0. 0. 0. 0. 0. 0. 0. 0.]\n",
       "           [0. 1. 0. 0. 0. 0. 0. 0. 0.]\n",
       "           [0. 0. 1. 0. 0. 0. 0. 0. 0.]\n",
       "           [0. 0. 0. 1. 0. 0. 0. 0. 0.]\n",
       "           [0. 0. 0. 0. 1. 0. 0. 0. 0.]\n",
       "           [0. 0. 0. 0. 0. 1. 0. 0. 0.]\n",
       "           [0. 0. 0. 0. 0. 0. 1. 0. 0.]\n",
       "           [0. 0. 0. 0. 0. 0. 0. 1. 0.]\n",
       "           [0. 0. 0. 0. 0. 0. 0. 0. 1.]]\n",
       "x_post = [[0. 0. 0. 0. 0. 0. 0. 0. 0.]].T\n",
       "P_post = [[1. 0. 0. 0. 0. 0. 0. 0. 0.]\n",
       "          [0. 1. 0. 0. 0. 0. 0. 0. 0.]\n",
       "          [0. 0. 1. 0. 0. 0. 0. 0. 0.]\n",
       "          [0. 0. 0. 1. 0. 0. 0. 0. 0.]\n",
       "          [0. 0. 0. 0. 1. 0. 0. 0. 0.]\n",
       "          [0. 0. 0. 0. 0. 1. 0. 0. 0.]\n",
       "          [0. 0. 0. 0. 0. 0. 1. 0. 0.]\n",
       "          [0. 0. 0. 0. 0. 0. 0. 1. 0.]\n",
       "          [0. 0. 0. 0. 0. 0. 0. 0. 1.]]\n",
       "F = [[1.  0.  0.  1.  0.  0.  0.5 0.  0. ]\n",
       "     [0.  1.  0.  0.  1.  0.  0.  0.5 0. ]\n",
       "     [0.  0.  1.  0.  0.  1.  0.  0.  0.5]\n",
       "     [0.  0.  0.  1.  0.  0.  1.  0.  0. ]\n",
       "     [0.  0.  0.  0.  1.  0.  0.  1.  0. ]\n",
       "     [0.  0.  0.  0.  0.  1.  0.  0.  1. ]\n",
       "     [0.  0.  0.  0.  0.  0.  1.  0.  0. ]\n",
       "     [0.  0.  0.  0.  0.  0.  0.  1.  0. ]\n",
       "     [0.  0.  0.  0.  0.  0.  0.  0.  1. ]]\n",
       "Q = [[1. 0. 0. 0. 0. 0. 0. 0. 0.]\n",
       "     [0. 1. 0. 0. 0. 0. 0. 0. 0.]\n",
       "     [0. 0. 1. 0. 0. 0. 0. 0. 0.]\n",
       "     [0. 0. 0. 1. 0. 0. 0. 0. 0.]\n",
       "     [0. 0. 0. 0. 1. 0. 0. 0. 0.]\n",
       "     [0. 0. 0. 0. 0. 1. 0. 0. 0.]\n",
       "     [0. 0. 0. 0. 0. 0. 1. 0. 0.]\n",
       "     [0. 0. 0. 0. 0. 0. 0. 1. 0.]\n",
       "     [0. 0. 0. 0. 0. 0. 0. 0. 1.]]\n",
       "R = [[1. 0. 0.]\n",
       "     [0. 1. 0.]\n",
       "     [0. 0. 1.]]\n",
       "H = [[1. 0. 0. 0. 0. 0. 0. 0. 0.]\n",
       "     [0. 1. 0. 0. 0. 0. 0. 0. 0.]\n",
       "     [0. 0. 1. 0. 0. 0. 0. 0. 0.]]\n",
       "K = [[0. 0. 0.]\n",
       "     [0. 0. 0.]\n",
       "     [0. 0. 0.]\n",
       "     [0. 0. 0.]\n",
       "     [0. 0. 0.]\n",
       "     [0. 0. 0.]\n",
       "     [0. 0. 0.]\n",
       "     [0. 0. 0.]\n",
       "     [0. 0. 0.]]\n",
       "y = [[0. 0. 0.]].T\n",
       "S = [[0. 0. 0.]\n",
       "     [0. 0. 0.]\n",
       "     [0. 0. 0.]]\n",
       "SI = [[0. 0. 0.]\n",
       "      [0. 0. 0.]\n",
       "      [0. 0. 0.]]\n",
       "M = [[0. 0. 0.]\n",
       "     [0. 0. 0.]\n",
       "     [0. 0. 0.]]\n",
       "B = None\n",
       "z = [[None None None]].T\n",
       "log-likelihood = -708.3964185322641\n",
       "likelihood = 2.2250738585072014e-308\n",
       "mahalanobis = 0.0\n",
       "alpha = 1.0\n",
       "inv = <function inv at 0x0000022CDA171260>"
      ]
     },
     "execution_count": 6,
     "metadata": {},
     "output_type": "execute_result"
    }
   ],
   "source": [
    "from filterpy.common import kinematic_kf\n",
    "kinematic_kf(dim=3, order=2, dt=1.0, order_by_dim=False)"
   ]
  },
  {
   "cell_type": "code",
   "execution_count": 20,
   "id": "2299bf3c",
   "metadata": {},
   "outputs": [
    {
     "name": "stdout",
     "output_type": "stream",
     "text": [
      "[[1.  0.  0.  0.5 0.  0. ]\n",
      " [0.  1.  0.  0.  0.5 0. ]\n",
      " [0.  0.  1.  0.  0.  0.5]\n",
      " [0.  0.  0.  1.  0.  0. ]\n",
      " [0.  0.  0.  0.  1.  0. ]\n",
      " [0.  0.  0.  0.  0.  1. ]]\n"
     ]
    }
   ],
   "source": [
    "import pandas as pd\n",
    "import numpy as np\n",
    "import scipy as sp\n",
    "import matplotlib.pyplot as plt\n",
    "\n",
    "dt = 0.5\n",
    "F = np.diag([1.]*6)\n",
    "F[0,3]=dt \n",
    "F[1,4]=dt \n",
    "F[2,5] =dt\n",
    "print(F)"
   ]
  },
  {
   "cell_type": "code",
   "execution_count": 23,
   "id": "e887b0e0",
   "metadata": {},
   "outputs": [
    {
     "name": "stdout",
     "output_type": "stream",
     "text": [
      "UnscentedKalmanFilter object\n",
      "x = [0. 0.]\n",
      "P = [[1. 0.]\n",
      "     [0. 1.]]\n",
      "x_prior = [0. 0.]\n",
      "P_prior = [[1. 0.]\n",
      "           [0. 1.]]\n",
      "Q = [[1. 0.]\n",
      "     [0. 1.]]\n",
      "R = [[1.]]\n",
      "S = [[0.]]\n",
      "K = [[0. 0.]].T\n",
      "y = [0.]\n",
      "log-likelihood = -708.3964185322641\n",
      "likelihood = 2.2250738585072014e-308\n",
      "mahalanobis = 0.0\n",
      "sigmas_f = [[0. 0.]\n",
      "            [0. 0.]\n",
      "            [0. 0.]\n",
      "            [0. 0.]\n",
      "            [0. 0.]]\n",
      "h = [[0. 0. 0. 0. 0.]].T\n",
      "Wm = [0.33333333 0.16666667 0.16666667 0.16666667 0.16666667]\n",
      "Wc = [0.33333333 0.16666667 0.16666667 0.16666667 0.16666667]\n",
      "residual_x = <ufunc 'subtract'>\n",
      "residual_z = <ufunc 'subtract'>\n",
      "msqrt = <function cholesky at 0x0000022CFA795800>\n",
      "hx = <function hx at 0x0000022CFF039800>\n",
      "fx = <function fx at 0x0000022CFF03B100>\n",
      "x_mean = None\n",
      "z_mean = None\n",
      "New UKF ======================================\n",
      "UnscentedKalmanFilter object\n",
      "x = [0. 0.]\n",
      "P = [[10.  0.]\n",
      "     [ 0. 10.]]\n",
      "x_prior = [0. 0.]\n",
      "P_prior = [[1. 0.]\n",
      "           [0. 1.]]\n",
      "Q = [[0.0075 0.015 ]\n",
      "     [0.015  0.03  ]]\n",
      "R = [[0.5]]\n",
      "S = [[0.]]\n",
      "K = [[0. 0.]].T\n",
      "y = [0.]\n",
      "log-likelihood = -708.3964185322641\n",
      "likelihood = 2.2250738585072014e-308\n",
      "mahalanobis = 0.0\n",
      "sigmas_f = [[0. 0.]\n",
      "            [0. 0.]\n",
      "            [0. 0.]\n",
      "            [0. 0.]\n",
      "            [0. 0.]]\n",
      "h = [[0. 0. 0. 0. 0.]].T\n",
      "Wm = [0.33333333 0.16666667 0.16666667 0.16666667 0.16666667]\n",
      "Wc = [0.33333333 0.16666667 0.16666667 0.16666667 0.16666667]\n",
      "residual_x = <ufunc 'subtract'>\n",
      "residual_z = <ufunc 'subtract'>\n",
      "msqrt = <function cholesky at 0x0000022CFA795800>\n",
      "hx = <function hx at 0x0000022CFF039800>\n",
      "fx = <function fx at 0x0000022CFF03B100>\n",
      "x_mean = None\n",
      "z_mean = None\n"
     ]
    }
   ],
   "source": [
    "from filterpy.kalman import JulierSigmaPoints\n",
    "\n",
    "sigmas = JulierSigmaPoints(n=2, kappa=1)\n",
    "\n",
    "def fx(x, dt):\n",
    "    xout = np.empty_like(x)\n",
    "    xout[0] = x[1] * dt + x[0]\n",
    "    xout[1] = x[1]\n",
    "    return xout\n",
    "\n",
    "def hx(x):\n",
    "    return x[:1] # return position [x] \n",
    "\n",
    "from numpy.random import randn\n",
    "from filterpy.kalman import UnscentedKalmanFilter\n",
    "from filterpy.common import Q_discrete_white_noise\n",
    "\n",
    "ukf = UnscentedKalmanFilter(dim_x=2, dim_z=1, dt=1., hx=hx, fx=fx, points=sigmas)\n",
    "print(ukf)\n",
    "\n",
    "ukf.P *= 10\n",
    "ukf.R *= .5\n",
    "ukf.Q = Q_discrete_white_noise(2, dt=1., var=0.03)\n",
    "\n",
    "print(\"New UKF ======================================\")\n",
    "print(ukf)"
   ]
  },
  {
   "cell_type": "code",
   "execution_count": 25,
   "id": "88ac3733",
   "metadata": {},
   "outputs": [
    {
     "data": {
      "text/plain": [
       "array([[2.5e-06, 5.0e-05, 5.0e-04],\n",
       "       [5.0e-05, 1.0e-03, 1.0e-02],\n",
       "       [5.0e-04, 1.0e-02, 1.0e-01]])"
      ]
     },
     "execution_count": 25,
     "metadata": {},
     "output_type": "execute_result"
    }
   ],
   "source": [
    "Q_discrete_white_noise(3, dt=0.1, var=0.1)"
   ]
  },
  {
   "cell_type": "code",
   "execution_count": 30,
   "id": "ba96cf1a",
   "metadata": {},
   "outputs": [
    {
     "data": {
      "text/plain": [
       "3.141592653589793"
      ]
     },
     "execution_count": 30,
     "metadata": {},
     "output_type": "execute_result"
    }
   ],
   "source": [
    "import math\n",
    "math.radians(180)"
   ]
  }
 ],
 "metadata": {
  "kernelspec": {
   "display_name": "Python 3",
   "language": "python",
   "name": "python3"
  },
  "language_info": {
   "codemirror_mode": {
    "name": "ipython",
    "version": 3
   },
   "file_extension": ".py",
   "mimetype": "text/x-python",
   "name": "python",
   "nbconvert_exporter": "python",
   "pygments_lexer": "ipython3",
   "version": "3.12.0"
  }
 },
 "nbformat": 4,
 "nbformat_minor": 5
}
